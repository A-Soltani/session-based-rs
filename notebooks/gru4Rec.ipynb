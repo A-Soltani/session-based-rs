{
 "cells": [
  {
   "cell_type": "code",
   "execution_count": 23,
   "metadata": {},
   "outputs": [],
   "source": [
    "import pandas as pd"
   ]
  },
  {
   "cell_type": "code",
   "execution_count": 24,
   "metadata": {},
   "outputs": [],
   "source": [
    "prepared_data_path = \"../data/rsc15/prepared/\"\n",
    "train_file_name = \"yoochoose-clicks-100k_train_full.txt\"\n",
    "train_file_path = f\"{prepared_data_path}{train_file_name}\""
   ]
  },
  {
   "cell_type": "code",
   "execution_count": 25,
   "metadata": {},
   "outputs": [],
   "source": [
    "train_data = pd.read_csv(train_file_path, sep=\"\\t\")"
   ]
  },
  {
   "cell_type": "code",
   "execution_count": 31,
   "metadata": {},
   "outputs": [],
   "source": [
    "def load_our_data(path):\n",
    "    return pd.read_csv(path, sep=\"\\t\")"
   ]
  },
  {
   "cell_type": "code",
   "execution_count": 27,
   "metadata": {},
   "outputs": [
    {
     "ename": "TypeError",
     "evalue": "load_our_data() got an unexpected keyword argument 'limit'",
     "output_type": "error",
     "traceback": [
      "\u001b[1;31m---------------------------------------------------------------------------\u001b[0m",
      "\u001b[1;31mTypeError\u001b[0m                                 Traceback (most recent call last)",
      "\u001b[1;32mC:\\Users\\AL9107~1.SOL\\AppData\\Local\\Temp/ipykernel_20124/4022619594.py\u001b[0m in \u001b[0;36m<module>\u001b[1;34m\u001b[0m\n\u001b[0;32m      3\u001b[0m \u001b[0mtr_path\u001b[0m \u001b[1;33m=\u001b[0m \u001b[1;34mf\"{prepared_data_path}yoochoose-clicks-100k_train_tr.txt\"\u001b[0m\u001b[1;33m\u001b[0m\u001b[1;33m\u001b[0m\u001b[0m\n\u001b[0;32m      4\u001b[0m \u001b[1;33m\u001b[0m\u001b[0m\n\u001b[1;32m----> 5\u001b[1;33m \u001b[0mtr_data\u001b[0m \u001b[1;33m=\u001b[0m \u001b[0mload_our_data\u001b[0m\u001b[1;33m(\u001b[0m\u001b[0mpath\u001b[0m\u001b[1;33m=\u001b[0m\u001b[1;34mf\"{prepared_data_path}yoochoose-clicks-100k_train_full.txt\"\u001b[0m\u001b[1;33m,\u001b[0m \u001b[0mlimit\u001b[0m\u001b[1;33m=\u001b[0m\u001b[0mlimit\u001b[0m\u001b[1;33m)\u001b[0m\u001b[1;33m\u001b[0m\u001b[1;33m\u001b[0m\u001b[0m\n\u001b[0m",
      "\u001b[1;31mTypeError\u001b[0m: load_our_data() got an unexpected keyword argument 'limit'"
     ]
    }
   ],
   "source": [
    "limit = 10\n",
    "prepared_data_path = \"../data/rsc15/prepared/\"\n",
    "tr_path = f\"{prepared_data_path}yoochoose-clicks-100k_train_tr.txt\"\n",
    "\n",
    "tr_data = load_our_data(path=f\"{prepared_data_path}yoochoose-clicks-100k_train_full.txt\", limit=limit)"
   ]
  },
  {
   "cell_type": "code",
   "execution_count": null,
   "metadata": {},
   "outputs": [],
   "source": [
    " pd.read_csv(path, sep=\"\\t\")"
   ]
  },
  {
   "cell_type": "code",
   "execution_count": null,
   "metadata": {},
   "outputs": [],
   "source": [
    "print(tr_path)"
   ]
  },
  {
   "cell_type": "code",
   "execution_count": null,
   "metadata": {},
   "outputs": [],
   "source": [
    "print(train_file_path)"
   ]
  },
  {
   "cell_type": "code",
   "execution_count": 32,
   "metadata": {},
   "outputs": [],
   "source": [
    "tr_data1 = load_our_data(tr_path)"
   ]
  },
  {
   "cell_type": "code",
   "execution_count": 33,
   "metadata": {},
   "outputs": [
    {
     "name": "stdout",
     "output_type": "stream",
     "text": [
      "       SessionId     ItemId          Time\n",
      "0              3  214716935  1.396437e+09\n",
      "1              3  214832672  1.396438e+09\n",
      "2              7  214826835  1.396414e+09\n",
      "3              7  214826715  1.396414e+09\n",
      "4             11  214821275  1.396515e+09\n",
      "...          ...        ...           ...\n",
      "53249      31808  214820441  1.396508e+09\n",
      "53250      31812  214662819  1.396365e+09\n",
      "53251      31812  214836765  1.396365e+09\n",
      "53252      31812  214836073  1.396365e+09\n",
      "53253      31812  214662819  1.396365e+09\n",
      "\n",
      "[53254 rows x 3 columns]\n"
     ]
    }
   ],
   "source": [
    "print(tr_data1)"
   ]
  }
 ],
 "metadata": {
  "kernelspec": {
   "display_name": "Python 3 (ipykernel)",
   "language": "python",
   "name": "python3"
  },
  "language_info": {
   "codemirror_mode": {
    "name": "ipython",
    "version": 3
   },
   "file_extension": ".py",
   "mimetype": "text/x-python",
   "name": "python",
   "nbconvert_exporter": "python",
   "pygments_lexer": "ipython3",
   "version": "3.9.5"
  }
 },
 "nbformat": 4,
 "nbformat_minor": 4
}
