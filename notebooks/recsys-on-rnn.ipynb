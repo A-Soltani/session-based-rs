{
 "cells": [
  {
   "cell_type": "markdown",
   "id": "21203f93",
   "metadata": {},
   "source": [
    "# Import Packages"
   ]
  },
  {
   "cell_type": "code",
   "execution_count": 2,
   "id": "fd76a7eb",
   "metadata": {},
   "outputs": [],
   "source": [
    "import os.path\n",
    "import time\n",
    "import pandas as pd"
   ]
  },
  {
   "cell_type": "markdown",
   "id": "62a6b6cf",
   "metadata": {},
   "source": [
    "# Parameters"
   ]
  },
  {
   "cell_type": "code",
   "execution_count": 3,
   "id": "5e04fd85",
   "metadata": {},
   "outputs": [],
   "source": [
    "# name of model. Used for saving conventions\n",
    "name = 'recsys' # 'imusic'\n",
    "\n",
    "# set sise of data (number of samples). If None (suggested), full datasets are applied.\n",
    "limit = None\n",
    "\n",
    "# how often would you like to check results?\n",
    "show_every_n_batches = 3000\n",
    "\n",
    "# decide on wether to show full validation statistics. Computational time is high when this is True\n",
    "full_validation_stats = False\n",
    "\n",
    "# decide whether to log testing\n",
    "log_testing = True\n",
    "\n",
    "# top k products to determine accuracy\n",
    "top_k = 20\n",
    "\n",
    "notes = 'Final GRU Model'"
   ]
  },
  {
   "cell_type": "markdown",
   "id": "68ec0bc4",
   "metadata": {},
   "source": [
    "# Hyperparameters"
   ]
  },
  {
   "cell_type": "code",
   "execution_count": 4,
   "id": "c63a7648",
   "metadata": {},
   "outputs": [],
   "source": [
    "# 512 - Number of sequences running through the network in one pass.\n",
    "batch_size = 512\n",
    "\n",
    "# 50 - Embedding dimensions\n",
    "embed_dim = 300\n",
    "\n",
    "# The dropout drop probability when training on input. If you're network is overfitting, try decreasing this.\n",
    "x_drop_probability = 0.00\n",
    "\n",
    "# The dropout keep probability when training on RNN neurons. If you're network is overfitting, try decreasing this.\n",
    "rnn_keep_probability = 1.00\n",
    "\n",
    "# 100 - The number of units in the hidden layers.\n",
    "rnn_size = 200\n",
    "\n",
    "# 1\n",
    "num_layers = 1\n",
    "\n",
    "# Learning rate for training\n",
    "# typically 0.0001 up to 1: http://datascience.stackexchange.com/questions/410/choosing-a-learning-rate\n",
    "# best learning_rate = 0.0025\n",
    "learning_rate = 0.0025\n",
    "\n",
    "# 10 epochs\n",
    "num_epochs = 50"
   ]
  },
  {
   "cell_type": "markdown",
   "id": "96d9c9ca",
   "metadata": {},
   "source": [
    "# Create model folder for hyperparameters, statistics and the model itself"
   ]
  },
  {
   "cell_type": "markdown",
   "id": "fe9aafbd",
   "metadata": {},
   "source": [
    "## Update and get model_counter"
   ]
  },
  {
   "cell_type": "code",
   "execution_count": 5,
   "id": "c5da9380",
   "metadata": {},
   "outputs": [],
   "source": [
    "model_counter_path = '../models/model_counter.txt'\n",
    "# os.path.isfile() method in Python is used to check whether the specified path is an existing regular file or not.\n",
    "if os.path.isfile(model_counter_path):\n",
    "    # The open() function returns a file object, which has a read() method for reading the content of the file\n",
    "    # Read Only (‘r’)\n",
    "    model_counter_file = open(model_counter_path, 'r') \n",
    "    model_count = int(model_counter_file.read())\n",
    "    model_counter_file.close()\n",
    "    # Write Only (‘w’)\n",
    "    model_counter_file = open(model_counter_path, 'w')\n",
    "    model_counter_file.write(str(model_count + 1))\n",
    "    model_counter_file.close()\n",
    "else:\n",
    "    # Write and Read (‘w+’)\n",
    "    model_counter_file = open(model_counter_path, 'w+')\n",
    "    model_count = 1000 # initial model count/number\n",
    "    model_counter_file.write(str(model_count + 1))\n",
    "    model_counter_file.close()"
   ]
  },
  {
   "cell_type": "markdown",
   "id": "4ae3d6e8",
   "metadata": {},
   "source": [
    "## Make model directory"
   ]
  },
  {
   "cell_type": "code",
   "execution_count": 6,
   "id": "d923f2a4",
   "metadata": {},
   "outputs": [],
   "source": [
    "model_path_dir = '../models/' + str(model_count) + '-' + name + '-' + time.strftime(\"%y%m%d\") + '/'\n",
    "if not os.path.exists(model_path_dir):\n",
    "    os.makedirs(model_path_dir)"
   ]
  },
  {
   "cell_type": "markdown",
   "id": "bb34bb40",
   "metadata": {},
   "source": [
    "## Update stats_file"
   ]
  },
  {
   "cell_type": "code",
   "execution_count": 7,
   "id": "5c6bb861",
   "metadata": {},
   "outputs": [],
   "source": [
    "stats_file_path = model_path_dir + name + '-' + time.strftime(\"%y%m%d%H%M\") + '-statsfile' + '.txt'\n",
    "stats_file = open(stats_file_path, 'w+')\n",
    "stats_file.write('model number: {}\\n'.format(model_count))\n",
    "stats_file.write('name: {}\\n\\n'.format(name))\n",
    "stats_file.write('limit: {}\\n'.format(limit))\n",
    "stats_file.write('batch_size: {}\\n'.format(batch_size))\n",
    "stats_file.write('embed_dim: {}\\n'.format(embed_dim))\n",
    "stats_file.write('x_drop_probability: {}\\n'.format(x_drop_probability))\n",
    "stats_file.write('rnn_keep_probability: {}\\n'.format(rnn_keep_probability))\n",
    "stats_file.write('rnn_size: {}\\n'.format(rnn_size))\n",
    "stats_file.write('num_layers: {}\\n'.format(num_layers))\n",
    "stats_file.write('learning_rate: {}\\n'.format(learning_rate))\n",
    "stats_file.write('num_epochs: {}\\n'.format(num_epochs))\n",
    "stats_file.write('show_every_n_batches: {}\\n'.format(show_every_n_batches))\n",
    "stats_file.write('top_k: {}\\n'.format(top_k))\n",
    "stats_file.write('full_validation_stats: {}\\n'.format(full_validation_stats))\n",
    "stats_file.write('notes: {}\\n'.format(notes))\n",
    "stats_file.close()"
   ]
  },
  {
   "cell_type": "markdown",
   "id": "e554dd7e",
   "metadata": {},
   "source": [
    "# Load Data¶"
   ]
  },
  {
   "cell_type": "code",
   "execution_count": 21,
   "id": "ea67228f",
   "metadata": {},
   "outputs": [],
   "source": [
    "def load_our_data(path, limit):\n",
    "    return pd.read_csv(path, nrows = limit, sep=\"\\t\")"
   ]
  },
  {
   "cell_type": "code",
   "execution_count": 22,
   "id": "b1d5a4c0",
   "metadata": {},
   "outputs": [],
   "source": [
    "if limit == None:\n",
    "    validation_limit = None\n",
    "    testing_limit = None\n",
    "else:\n",
    "    validation_limit = int(0.2 * limit)\n",
    "    testing_limit = int(0.2 * limit)\n",
    "\n",
    "prepared_data_path = \"../data/rsc15/prepared/\"\n",
    "\n",
    "tr_data = load_our_data(path=f\"{prepared_data_path}yoochoose-clicks-100k_train_tr.txt\", limit=limit)\n",
    "va_data = load_our_data(path=f\"{prepared_data_path}yoochoose-clicks-100k_train_valid.txt\", limit=validation_limit)\n",
    "te_data = load_our_data(path=f\"{prepared_data_path}yoochoose-clicks-100k_test.txt\", limit=testing_limit)"
   ]
  },
  {
   "cell_type": "markdown",
   "id": "c7e02fe0",
   "metadata": {},
   "source": [
    "# Data Preprocessing"
   ]
  },
  {
   "cell_type": "code",
   "execution_count": null,
   "id": "b3488e33",
   "metadata": {},
   "outputs": [],
   "source": []
  }
 ],
 "metadata": {
  "kernelspec": {
   "display_name": "Python 3 (ipykernel)",
   "language": "python",
   "name": "python3"
  },
  "language_info": {
   "codemirror_mode": {
    "name": "ipython",
    "version": 3
   },
   "file_extension": ".py",
   "mimetype": "text/x-python",
   "name": "python",
   "nbconvert_exporter": "python",
   "pygments_lexer": "ipython3",
   "version": "3.9.5"
  }
 },
 "nbformat": 4,
 "nbformat_minor": 5
}
