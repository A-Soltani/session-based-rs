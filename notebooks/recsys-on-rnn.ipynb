{
 "cells": [
  {
   "cell_type": "markdown",
   "id": "21203f93",
   "metadata": {},
   "source": [
    "# Import Packages"
   ]
  },
  {
   "cell_type": "code",
   "execution_count": 1,
   "id": "fd76a7eb",
   "metadata": {},
   "outputs": [],
   "source": [
    "import os.path\n",
    "import time\n",
    "import pandas as pd\n",
    "import numpy as np"
   ]
  },
  {
   "cell_type": "markdown",
   "id": "62a6b6cf",
   "metadata": {},
   "source": [
    "# Parameters"
   ]
  },
  {
   "cell_type": "code",
   "execution_count": 2,
   "id": "5e04fd85",
   "metadata": {},
   "outputs": [],
   "source": [
    "# name of model. Used for saving conventions\n",
    "name = 'recsys' # 'imusic'\n",
    "\n",
    "# set sise of data (number of samples). If None (suggested), full datasets are applied.\n",
    "limit = None\n",
    "\n",
    "# how often would you like to check results?\n",
    "show_every_n_batches = 3000\n",
    "\n",
    "# decide on wether to show full validation statistics. Computational time is high when this is True\n",
    "full_validation_stats = False\n",
    "\n",
    "# decide whether to log testing\n",
    "log_testing = True\n",
    "\n",
    "# top k products to determine accuracy\n",
    "top_k = 20\n",
    "\n",
    "notes = 'Final GRU Model'"
   ]
  },
  {
   "cell_type": "markdown",
   "id": "68ec0bc4",
   "metadata": {},
   "source": [
    "# Hyperparameters"
   ]
  },
  {
   "cell_type": "code",
   "execution_count": 3,
   "id": "c63a7648",
   "metadata": {},
   "outputs": [],
   "source": [
    "# 512 - Number of sequences running through the network in one pass.\n",
    "batch_size = 512\n",
    "\n",
    "# 50 - Embedding dimensions\n",
    "embed_dim = 300\n",
    "\n",
    "# The dropout drop probability when training on input. If you're network is overfitting, try decreasing this.\n",
    "x_drop_probability = 0.00\n",
    "\n",
    "# The dropout keep probability when training on RNN neurons. If you're network is overfitting, try decreasing this.\n",
    "rnn_keep_probability = 1.00\n",
    "\n",
    "# 100 - The number of units in the hidden layers.\n",
    "rnn_size = 200\n",
    "\n",
    "# 1\n",
    "num_layers = 1\n",
    "\n",
    "# Learning rate for training\n",
    "# typically 0.0001 up to 1: http://datascience.stackexchange.com/questions/410/choosing-a-learning-rate\n",
    "# best learning_rate = 0.0025\n",
    "learning_rate = 0.0025\n",
    "\n",
    "# 10 epochs\n",
    "num_epochs = 50"
   ]
  },
  {
   "cell_type": "markdown",
   "id": "96d9c9ca",
   "metadata": {},
   "source": [
    "# Create model folder for hyperparameters, statistics and the model itself"
   ]
  },
  {
   "cell_type": "markdown",
   "id": "fe9aafbd",
   "metadata": {},
   "source": [
    "## Update and get model_counter"
   ]
  },
  {
   "cell_type": "code",
   "execution_count": 4,
   "id": "c5da9380",
   "metadata": {},
   "outputs": [],
   "source": [
    "model_counter_path = '../models/model_counter.txt'\n",
    "# os.path.isfile() method in Python is used to check whether the specified path is an existing regular file or not.\n",
    "if os.path.isfile(model_counter_path):\n",
    "    # The open() function returns a file object, which has a read() method for reading the content of the file\n",
    "    # Read Only (‘r’)\n",
    "    model_counter_file = open(model_counter_path, 'r') \n",
    "    model_count = int(model_counter_file.read())\n",
    "    model_counter_file.close()\n",
    "    # Write Only (‘w’)\n",
    "    model_counter_file = open(model_counter_path, 'w')\n",
    "    model_counter_file.write(str(model_count + 1))\n",
    "    model_counter_file.close()\n",
    "else:\n",
    "    # Write and Read (‘w+’)\n",
    "    model_counter_file = open(model_counter_path, 'w+')\n",
    "    model_count = 1000 # initial model count/number\n",
    "    model_counter_file.write(str(model_count + 1))\n",
    "    model_counter_file.close()"
   ]
  },
  {
   "cell_type": "markdown",
   "id": "4ae3d6e8",
   "metadata": {},
   "source": [
    "## Make model directory"
   ]
  },
  {
   "cell_type": "code",
   "execution_count": 5,
   "id": "d923f2a4",
   "metadata": {},
   "outputs": [],
   "source": [
    "model_path_dir = '../models/model_count/' + str(model_count) + '-' + name + '-' + time.strftime(\"%y%m%d\") + '/'\n",
    "if not os.path.exists(model_path_dir):\n",
    "    os.makedirs(model_path_dir)"
   ]
  },
  {
   "cell_type": "markdown",
   "id": "bb34bb40",
   "metadata": {},
   "source": [
    "## Update stats_file"
   ]
  },
  {
   "cell_type": "code",
   "execution_count": 6,
   "id": "5c6bb861",
   "metadata": {},
   "outputs": [],
   "source": [
    "stats_file_path = model_path_dir + name + '-' + time.strftime(\"%y%m%d%H%M\") + '-statsfile' + '.txt'\n",
    "stats_file = open(stats_file_path, 'w+')\n",
    "stats_file.write('model number: {}\\n'.format(model_count))\n",
    "stats_file.write('name: {}\\n\\n'.format(name))\n",
    "stats_file.write('limit: {}\\n'.format(limit))\n",
    "stats_file.write('batch_size: {}\\n'.format(batch_size))\n",
    "stats_file.write('embed_dim: {}\\n'.format(embed_dim))\n",
    "stats_file.write('x_drop_probability: {}\\n'.format(x_drop_probability))\n",
    "stats_file.write('rnn_keep_probability: {}\\n'.format(rnn_keep_probability))\n",
    "stats_file.write('rnn_size: {}\\n'.format(rnn_size))\n",
    "stats_file.write('num_layers: {}\\n'.format(num_layers))\n",
    "stats_file.write('learning_rate: {}\\n'.format(learning_rate))\n",
    "stats_file.write('num_epochs: {}\\n'.format(num_epochs))\n",
    "stats_file.write('show_every_n_batches: {}\\n'.format(show_every_n_batches))\n",
    "stats_file.write('top_k: {}\\n'.format(top_k))\n",
    "stats_file.write('full_validation_stats: {}\\n'.format(full_validation_stats))\n",
    "stats_file.write('notes: {}\\n'.format(notes))\n",
    "stats_file.close()"
   ]
  },
  {
   "cell_type": "markdown",
   "id": "e554dd7e",
   "metadata": {},
   "source": [
    "# Load Data"
   ]
  },
  {
   "cell_type": "code",
   "execution_count": 7,
   "id": "ea67228f",
   "metadata": {},
   "outputs": [],
   "source": [
    "def load_our_data(path, limit):\n",
    "    return pd.read_csv(path, nrows = limit, sep=\"\\t\")"
   ]
  },
  {
   "cell_type": "code",
   "execution_count": 8,
   "id": "b1d5a4c0",
   "metadata": {},
   "outputs": [],
   "source": [
    "if limit == None:\n",
    "    validation_limit = None\n",
    "    testing_limit = None\n",
    "else:\n",
    "    validation_limit = int(0.2 * limit)\n",
    "    testing_limit = int(0.2 * limit)\n",
    "\n",
    "prepared_data_path = \"../data/rsc15/prepared/\"\n",
    "\n",
    "tr_data = load_our_data(path=f\"{prepared_data_path}yoochoose-clicks-100k_train_full.txt\", limit=limit)\n",
    "va_data = load_our_data(path=f\"{prepared_data_path}yoochoose-clicks-100k_train_valid.txt\", limit=validation_limit)\n",
    "te_data = load_our_data(path=f\"{prepared_data_path}yoochoose-clicks-100k_test.txt\", limit=testing_limit)"
   ]
  },
  {
   "cell_type": "markdown",
   "id": "ff2a7651",
   "metadata": {},
   "source": [
    "# Data Preprocessing"
   ]
  },
  {
   "cell_type": "markdown",
   "id": "25a1f030",
   "metadata": {},
   "source": [
    "## Get unique items"
   ]
  },
  {
   "cell_type": "code",
   "execution_count": 9,
   "id": "dba0207d",
   "metadata": {},
   "outputs": [
    {
     "name": "stdout",
     "output_type": "stream",
     "text": [
      "uniques in training   2933\n",
      "uniques in validation 2029\n",
      "uniques in testing    1771\n",
      "\n",
      "depth (unique items)  2933\n"
     ]
    }
   ],
   "source": [
    "# get number of unique products\n",
    "print('uniques in training  ', np.unique(tr_data['ItemId']).shape[0])\n",
    "print('uniques in validation', np.unique(va_data['ItemId']).shape[0])\n",
    "print('uniques in testing   ', np.unique(te_data['ItemId']).shape[0])\n",
    "\n",
    "# unique item_ids\n",
    "uniques = np.unique(np.append(np.append(tr_data['ItemId'], va_data['ItemId']), te_data['ItemId']))\n",
    "depth = uniques.shape[0]\n",
    "print('\\ndepth (unique items) ', depth)\n",
    "if depth != np.unique(tr_data['ItemId']).shape[0]:\n",
    "    print('\\nWARNING! Number of uniques in training should equal the depth (uniques in full set)')"
   ]
  },
  {
   "cell_type": "markdown",
   "id": "2d4f9a3c",
   "metadata": {},
   "source": [
    "## Creating a lookup table"
   ]
  },
  {
   "cell_type": "code",
   "execution_count": 10,
   "id": "fede49ff",
   "metadata": {},
   "outputs": [],
   "source": [
    "def create_lookup_tables(item_ids):    \n",
    "    \n",
    "    items_to_int = pd.Series(data=np.arange(len(item_ids)),index=item_ids)\n",
    "    int_to_items = pd.DataFrame({\"ItemId\":item_ids,'item_idx':items_to_int[item_ids].values})\n",
    "    \n",
    "    return items_to_int, int_to_items"
   ]
  },
  {
   "cell_type": "code",
   "execution_count": 11,
   "id": "f537c0ae",
   "metadata": {},
   "outputs": [],
   "source": [
    "items_to_int, int_to_items = create_lookup_tables(list(uniques))"
   ]
  },
  {
   "cell_type": "markdown",
   "id": "3d697542",
   "metadata": {},
   "source": [
    "## Transforming and splitting the data"
   ]
  },
  {
   "cell_type": "markdown",
   "id": "aea479c1",
   "metadata": {},
   "source": [
    "In each session, the number of events\n",
    "is also referred to as the number of timesteps in a session. Sessions with a single\n",
    "timestep (one event) are dropped as it is not possible to train a model on inputs\n",
    "with no targets. \n",
    "\n",
    "The remaining sessions will be split into input (**X**) and target values (**y**)."
   ]
  },
  {
   "cell_type": "markdown",
   "id": "5e396b91",
   "metadata": {},
   "source": [
    "## Session Length"
   ]
  },
  {
   "cell_type": "markdown",
   "id": "69fad030",
   "metadata": {},
   "source": [
    "The span of session lengths can be a problem for recurrent neural networks as they require fixed sized inputs.\n",
    "The main proportion of the RecSys and AVM sessions spans **19** or fewer events.\n",
    "\n",
    "Sessions with more than 19 timesteps are split into multiple sessions and act as separate independent sessions. Loss of information by splitting long sessions is substantially low and the advantages of a much higher computation speed is valuable."
   ]
  },
  {
   "cell_type": "code",
   "execution_count": 12,
   "id": "5f9eca8a",
   "metadata": {},
   "outputs": [],
   "source": [
    "# 19 - Number of timesteps the rnn should take in\n",
    "timesteps = 19"
   ]
  },
  {
   "cell_type": "markdown",
   "id": "61061146",
   "metadata": {},
   "source": [
    "### Padding"
   ]
  },
  {
   "cell_type": "markdown",
   "id": "1220d7d4",
   "metadata": {},
   "source": [
    "A method called zero padding makes sessions the same length by adding zeros to missing timesteps in sessions shorter than n (Hearty, 2016). Padding is later reversed by masking, which ensures the added zeros of padding have no effect on model performance."
   ]
  },
  {
   "cell_type": "code",
   "execution_count": 13,
   "id": "bfc86a29",
   "metadata": {},
   "outputs": [
    {
     "name": "stdout",
     "output_type": "stream",
     "text": [
      "       SessionId     ItemId          Time\n",
      "0              3  214716935  1.396437e+09\n",
      "1              3  214832672  1.396438e+09\n",
      "2              6  214701242  1.396796e+09\n",
      "3              6  214826623  1.396797e+09\n",
      "4              7  214826835  1.396414e+09\n",
      "...          ...        ...           ...\n",
      "68914      32764  214717567  1.396431e+09\n",
      "68915      32764  214717567  1.396431e+09\n",
      "68911      32766  214585554  1.396711e+09\n",
      "68912      32766  214585554  1.396711e+09\n",
      "68913      32766  214819762  1.396711e+09\n",
      "\n",
      "[70278 rows x 3 columns]\n"
     ]
    }
   ],
   "source": [
    "session_key='SessionId'\n",
    "item_key='ItemId'\n",
    "time_key='Time'\n",
    "\n",
    "tr_data.sort_values([session_key, time_key], inplace=True)\n",
    "print(tr_data)"
   ]
  },
  {
   "cell_type": "code",
   "execution_count": 14,
   "id": "19e5835a",
   "metadata": {},
   "outputs": [
    {
     "name": "stdout",
     "output_type": "stream",
     "text": [
      "SessionId\n",
      "3        2\n",
      "6        2\n",
      "7        2\n",
      "8        2\n",
      "9        3\n",
      "        ..\n",
      "32759    4\n",
      "32762    2\n",
      "32763    6\n",
      "32764    2\n",
      "32766    3\n",
      "Length: 17794, dtype: int64\n"
     ]
    }
   ],
   "source": [
    "test= tr_data.groupby(session_key).size().cumsum() \n",
    "test1= tr_data.groupby(session_key)\n",
    "\n",
    "print(test1.size())"
   ]
  },
  {
   "cell_type": "code",
   "execution_count": 15,
   "id": "4e33ec3e",
   "metadata": {},
   "outputs": [
    {
     "name": "stdout",
     "output_type": "stream",
     "text": [
      "[    2     4     6 ... 70273 70275 70278]\n",
      "[    0     2     4 ... 70273 70275 70278]\n"
     ]
    }
   ],
   "source": [
    "offsets = np.zeros(tr_data[session_key].nunique() + 1, dtype=np.int32)\n",
    "# group & sort the df by session_key and get the offset values\n",
    "offsets[1:] = tr_data.groupby(session_key).size().cumsum()\n",
    "\n",
    "print(offsets[1:])\n",
    "print(offsets)\n"
   ]
  },
  {
   "cell_type": "code",
   "execution_count": 16,
   "id": "9ba2d18e",
   "metadata": {},
   "outputs": [
    {
     "name": "stdout",
     "output_type": "stream",
     "text": [
      "SessionId\n",
      "3        2\n",
      "6        2\n",
      "7        2\n",
      "8        2\n",
      "9        3\n",
      "        ..\n",
      "32759    4\n",
      "32762    2\n",
      "32763    6\n",
      "32764    2\n",
      "32766    3\n",
      "Length: 17794, dtype: int64\n"
     ]
    }
   ],
   "source": [
    "t1 = tr_data.groupby('SessionId').size()\n",
    "print(t1)\n",
    "\n"
   ]
  },
  {
   "cell_type": "code",
   "execution_count": 17,
   "id": "4c024250",
   "metadata": {},
   "outputs": [
    {
     "name": "stdout",
     "output_type": "stream",
     "text": [
      "       SessionId     ItemId          Time\n",
      "0              3  214716935  1.396437e+09\n",
      "1              3  214832672  1.396438e+09\n",
      "2              6  214701242  1.396796e+09\n",
      "3              6  214826623  1.396797e+09\n",
      "4              7  214826835  1.396414e+09\n",
      "...          ...        ...           ...\n",
      "68914      32764  214717567  1.396431e+09\n",
      "68915      32764  214717567  1.396431e+09\n",
      "68911      32766  214585554  1.396711e+09\n",
      "68912      32766  214585554  1.396711e+09\n",
      "68913      32766  214819762  1.396711e+09\n",
      "\n",
      "[70278 rows x 3 columns]\n",
      "       SessionId     ItemId          Time\n",
      "8              9  214576500  1.396776e+09\n",
      "9              9  214576500  1.396777e+09\n",
      "10             9  214576500  1.396777e+09\n",
      "11            11  214821275  1.396515e+09\n",
      "12            11  214821275  1.396515e+09\n",
      "...          ...        ...           ...\n",
      "68920      32763  214552151  1.396611e+09\n",
      "68921      32763  214552151  1.396611e+09\n",
      "68911      32766  214585554  1.396711e+09\n",
      "68912      32766  214585554  1.396711e+09\n",
      "68913      32766  214819762  1.396711e+09\n",
      "\n",
      "[54926 rows x 3 columns]\n"
     ]
    }
   ],
   "source": [
    "data = tr_data\n",
    "session_lengths = data.groupby('SessionId').size()\n",
    "data = data[np.in1d(data.SessionId, session_lengths[session_lengths>=3].index)]\n",
    "print(tr_data)\n",
    "print(data)"
   ]
  },
  {
   "cell_type": "markdown",
   "id": "c4277005",
   "metadata": {},
   "source": [
    "# Filter Data"
   ]
  },
  {
   "cell_type": "code",
   "execution_count": 18,
   "id": "fd108cbb",
   "metadata": {},
   "outputs": [],
   "source": [
    "def filter_rare_clicked_items(data):\n",
    "    \n",
    "    #delete records of items which appeared less than 5 times\n",
    "    itemLen = data.groupby('ItemID').size() #groupby itemID and get size of each item\n",
    "    data = data[np.in1d(data.ItemID, itemLen[itemLen > 4].index)]\n",
    "    \n",
    "    return data"
   ]
  },
  {
   "cell_type": "code",
   "execution_count": 19,
   "id": "126045b4",
   "metadata": {},
   "outputs": [],
   "source": [
    "def filter_single_timestep_sessions(data):\n",
    "    \n",
    "    ''' Sessions with a single timestep (one event) are dropped \n",
    "    as it is not possible to train a model on inputs with no targets '''\n",
    "    session_lengths = data.groupby('SessionId').size()\n",
    "    data = data[np.in1d(data.SessionId, session_lengths[session_lengths>1].index)]\n",
    "    \n",
    "    return data "
   ]
  },
  {
   "cell_type": "code",
   "execution_count": 20,
   "id": "68870470",
   "metadata": {},
   "outputs": [],
   "source": [
    "def get_click_offset(df):\n",
    "        \"\"\"\n",
    "        df[session_key] return a set of session_key\n",
    "        df[session_key].nunique() return the size of session_key set (int)\n",
    "        df.groupby(session_key).size() return the size of each session_id\n",
    "        df.groupby(session_key).size().cumsum() retunn cumulative sum\n",
    "        \"\"\"\n",
    "        offsets = np.zeros(df[session_key].nunique() + 1, dtype=np.int32)\n",
    "        offsets[1:] = df.groupby(session_key).size().cumsum()\n",
    "        return offsets"
   ]
  },
  {
   "cell_type": "code",
   "execution_count": 21,
   "id": "5819390b",
   "metadata": {},
   "outputs": [
    {
     "name": "stdout",
     "output_type": "stream",
     "text": [
      "[    0     2     4 ... 70273 70275 70278]\n"
     ]
    }
   ],
   "source": [
    "click_offsets = get_click_offset(tr_data)\n",
    "print(click_offsets)"
   ]
  },
  {
   "cell_type": "code",
   "execution_count": 22,
   "id": "e8810d9a",
   "metadata": {},
   "outputs": [],
   "source": [
    " def order_session_idx(df):\n",
    "        \"\"\" Order the session indices \"\"\"\n",
    "        time_sort = True\n",
    "        if time_sort:\n",
    "            # starting time for each sessions, sorted by session IDs\n",
    "            sessions_start_time = df.groupby(session_key)[time_key].min().values\n",
    "            # order the session indices by session starting times\n",
    "            session_idx_arr = np.argsort(sessions_start_time)\n",
    "        else:\n",
    "            session_idx_arr = np.arange(df[session_key].nunique())\n",
    "\n",
    "        return session_idx_arr"
   ]
  },
  {
   "cell_type": "code",
   "execution_count": 24,
   "id": "d0046b99",
   "metadata": {},
   "outputs": [
    {
     "name": "stdout",
     "output_type": "stream",
     "text": [
      "[ 2955 13185 17019 ...  4362  4317  3903]\n"
     ]
    }
   ],
   "source": [
    "session_idx_arr = order_session_idx(tr_data)\n",
    "print(session_idx_arr)"
   ]
  },
  {
   "cell_type": "code",
   "execution_count": 33,
   "id": "6cec9ffa",
   "metadata": {},
   "outputs": [],
   "source": [
    "offset_sessions = get_click_offset(data)\n",
    "session_idx_arr = order_session_idx(data)\n",
    "    \n",
    "iters = np.arange(batch_size)\n",
    "maxiter = iters.max()\n",
    "start = offset_sessions[session_idx_arr[iters]]\n",
    "end = offset_sessions[session_idx_arr[iters]+1]"
   ]
  },
  {
   "cell_type": "code",
   "execution_count": 35,
   "id": "fff69ca9",
   "metadata": {},
   "outputs": [
    {
     "name": "stdout",
     "output_type": "stream",
     "text": [
      "[    0     3    14 ... 54917 54923 54926]\n"
     ]
    }
   ],
   "source": [
    "print(offset_sessions)"
   ]
  },
  {
   "cell_type": "code",
   "execution_count": 56,
   "id": "c13b40ab",
   "metadata": {},
   "outputs": [
    {
     "data": {
      "text/plain": [
       "17794"
      ]
     },
     "execution_count": 56,
     "metadata": {},
     "output_type": "execute_result"
    }
   ],
   "source": [
    "session_idx_arr.shape[0]"
   ]
  },
  {
   "cell_type": "code",
   "execution_count": 36,
   "id": "ecb3246e",
   "metadata": {},
   "outputs": [
    {
     "name": "stdout",
     "output_type": "stream",
     "text": [
      "[1689 7534 9700 ... 2511 2481 2240]\n"
     ]
    }
   ],
   "source": [
    "print(session_idx_arr)"
   ]
  },
  {
   "cell_type": "code",
   "execution_count": 54,
   "id": "620a6d51",
   "metadata": {},
   "outputs": [
    {
     "data": {
      "text/plain": [
       "array([    0,     1,     2, ..., 17791, 17792, 17793])"
      ]
     },
     "execution_count": 54,
     "metadata": {},
     "output_type": "execute_result"
    }
   ],
   "source": [
    "np.arange(tr_data[session_key].nunique())"
   ]
  },
  {
   "cell_type": "code",
   "execution_count": 51,
   "id": "aca41957",
   "metadata": {},
   "outputs": [
    {
     "data": {
      "text/plain": [
       "array([ 1689,  7534,  9700,  5514,  8545,  2623,  8435,  9342,  3780,\n",
       "        6071,  1266,  3886,  4329,  5495,  2478,  1111,  4554,  2966,\n",
       "        1890,  3062,  2012,  8634,  1694,  4316,  9316,  9760,   221,\n",
       "        9201,  8306,  1725,  4019,  1810,  9206,  3564,  2474,  7726,\n",
       "        2594,  1398,  7832,  2431,  1430,  8420,  9553,  4374,  6019,\n",
       "        3505,  1454,  9805,   661,  7457,  1676,  2955,  2854,  2886,\n",
       "        3840,  6550,   333,   271,  5189,  3778,  5147,  9323,  5748,\n",
       "        7152,  5100,  7403,  6774,  6734,  7902,  2032,  8529,  5290,\n",
       "        5465,  2747,  3207,  3907,  8382,  6307,  5331,  1579,  1943,\n",
       "        5771,  8157,  5929,  9851,  4058,  1686,  9740,   112,  4734,\n",
       "        6128,  9542,  7178,  7550,  8495,  4881,  4555,  4835,  1512,\n",
       "        3383,  7044,  2301,  5577,  1556,  5179,  8050,  7325,  6006,\n",
       "        7085,  3902,  2093,  9884,  5311,  1846,  1972,  8914,  2372,\n",
       "        7198,  6683,  1756,  5411,  6939,  9925,   176,  1490,  7155,\n",
       "        6392,  6710,  5285,  7606,  8176,  5056,  8397,  8020,  2019,\n",
       "        9720,  2341,  3278,  7842,  8483,  3386,  8161,  6469,   104,\n",
       "         894,  2838,  2913,  8047,  1047,  2822,  5264,  2707,  2364,\n",
       "         883,  3407,  8599,  9421,  6257,  2851,  5287,  8828,  7115,\n",
       "        9922,  2951,  5392,  6297,   308,  4819,  8653,  8511,  9756,\n",
       "        5915,  2513,  7756,  8253,  7551,  1902,  9854,  2163,  4535,\n",
       "        9513,  8937,  4958,  3573,  6278,  7393,   381,  1670,  6146,\n",
       "        4325,  9888,  6255,  8982,  4402,  5808,  9726,  4024,  7595,\n",
       "        3077,  3771,  9576,  5962,  9295,   825,  8889,  7636,  9505,\n",
       "        1188,  4434,  4102,  9061,  1961,    14,  6233,  7006,  9214,\n",
       "        4810,  8265,  6399,  5372,  4971,  5185,  6942,  2716,  6844,\n",
       "        1888,  7697,  1580,  5883,  4973,  7974,  4608,  5447,  9257,\n",
       "        8068,  8942,  8801,  6314,  8226,  4808,  7605,  9972,  8058,\n",
       "        6661,  1161,  2754,  5562,  3655,  1712,  3160,  5776,  3347,\n",
       "        7676,  5192,  5832,  4844,  1485,  5999,  6165,  1238,  8212,\n",
       "         794,  4696,  7880,  9216,  1992,  1222,  1338,  7722,  5930,\n",
       "        6658,  5228,   973,  6949,  4292,  8960,  5225,  3399,  6014,\n",
       "         601,   716,  3489,   636,  3998,  5752,  3933, 10015,  7939,\n",
       "       10079,  4642,  8278,  3827,  7135,  9640,  9632,  1555,  6337,\n",
       "        1259,  9723,  2556,  1546,    78,  8976,  3196,  9781,    32,\n",
       "        9024,  4589,  5955,  7460,  6815,  1753,   669,  8055,  3802,\n",
       "        7770,  1574,  7334,  5340,  8598,  3243,  2562,  3277,  7161,\n",
       "        3330,  9628,  9529,  5519,  4785,  7245,  5645,  4147,  5584,\n",
       "         832,  1028,  7020,  8479,  5389,  3257,  7473,  3070,  8170,\n",
       "        9959,  6198,  5778,  5278, 10071,  9574,  6966,  8941,  4156,\n",
       "        8137,  7372,  1140,  4761,  6978,  3682,  6124,  2757,  7093,\n",
       "         713,   377,  9545,  8128,  4659,   111,  2334,  1326,  9299,\n",
       "        9567,  3379,  2217,  9976,  8448,  3212,  3343,  7040,  3102,\n",
       "        3711,  2516,  5900,  9418,  9952,  4217,  7374,  4626,  7371,\n",
       "        9455,  1793,  9642,  2685,    70,  4929,  7561,  3369,  7543,\n",
       "         305,  5308,  1979,  7839,   457,  8222,  3221,  4615,  1948,\n",
       "        9845,  7835,  2725,  5931,  4938,  2427,  7116,  8592,  9783,\n",
       "        7730,  4441,  1150,  5504,  3133,  1559,  8167,  6183,   258,\n",
       "        5766,  4132,  1910,  2939,  1847,  7057,  7785,  4492,   326,\n",
       "        8105,   204,   976,  1729,  7637,  7022,  5148, 10081,   184,\n",
       "        8241,  7509,  9638,  1348,  3046,  8751,     3,  8361,  7320,\n",
       "        8701,  5305,  9915,  9245,  7318,  7077,  5632,  9125,  2785,\n",
       "        2642,  7674,  1724,  4740,  4002,  5089,  7527,  3970,  9117,\n",
       "        2168,  1513,  2841,  7949,  6438,  3761,  7869,   753,  6225,\n",
       "        7632,   425,  3664,  5310,  3879,  3914,  5652,  5074,  4661,\n",
       "        5552,  8541,  5956,  7897,  7696,  1406,  1228,  7889, 10085,\n",
       "        6530,  1369,  8172,  3788,   242,  4508,  2657,  9430,  4189,\n",
       "        8264,  5743,  5802,  1708,  8808,  1608,  5211,  6770],\n",
       "      dtype=int64)"
      ]
     },
     "execution_count": 51,
     "metadata": {},
     "output_type": "execute_result"
    }
   ],
   "source": [
    "session_idx_arr[iters]"
   ]
  },
  {
   "cell_type": "code",
   "execution_count": 50,
   "id": "ada8a3d7",
   "metadata": {},
   "outputs": [
    {
     "data": {
      "text/plain": [
       "10117"
      ]
     },
     "execution_count": 50,
     "metadata": {},
     "output_type": "execute_result"
    }
   ],
   "source": [
    "np.amax(session_idx_arr, 0)"
   ]
  },
  {
   "cell_type": "code",
   "execution_count": 46,
   "id": "aada33e8",
   "metadata": {},
   "outputs": [
    {
     "name": "stdout",
     "output_type": "stream",
     "text": [
      "       SessionId     ItemId          Time\n",
      "0              3  214716935  1.396437e+09\n",
      "1              3  214832672  1.396438e+09\n",
      "2              6  214701242  1.396796e+09\n",
      "3              6  214826623  1.396797e+09\n",
      "4              7  214826835  1.396414e+09\n",
      "...          ...        ...           ...\n",
      "68914      32764  214717567  1.396431e+09\n",
      "68915      32764  214717567  1.396431e+09\n",
      "68911      32766  214585554  1.396711e+09\n",
      "68912      32766  214585554  1.396711e+09\n",
      "68913      32766  214819762  1.396711e+09\n",
      "\n",
      "[70278 rows x 3 columns]\n"
     ]
    }
   ],
   "source": [
    "tr_data.sort_values([session_key, time_key], inplace=True)\n",
    "print(tr_data)"
   ]
  },
  {
   "cell_type": "code",
   "execution_count": 45,
   "id": "e7fb7de7",
   "metadata": {},
   "outputs": [
    {
     "name": "stdout",
     "output_type": "stream",
     "text": [
      "[0 1 2 3 4]\n",
      "[ 0  3 14 17 20]\n",
      "[ 3 14 17 20 23]\n",
      "[ 3 11  3  3  3]\n",
      "3\n"
     ]
    }
   ],
   "source": [
    "iters1 = np.arange(5)\n",
    "print(iters1)\n",
    "start1 = offset_sessions[iters1]\n",
    "end1 = offset_sessions[iters1+1]\n",
    "print(start1)\n",
    "print(end1)\n",
    "\n",
    "min1 = end1-start1\n",
    "print(min1)\n",
    "\n",
    "print(min1.min())"
   ]
  },
  {
   "cell_type": "code",
   "execution_count": 34,
   "id": "03090dc0",
   "metadata": {},
   "outputs": [
    {
     "name": "stdout",
     "output_type": "stream",
     "text": [
      "[ 9345 40983 52699 29997 46346 14370 45760 50685 20625 33006  7091 21186\n",
      " 23566 29908 13578  6193 24822 16160 10445 16689 11088 46871  9370 23511\n",
      " 50536 52993  1196 49871 45051  9520 21900  9987 49896 19419 13558 42021\n",
      " 14214  7844 42599 13331  8044 45664 51928 23796 32738 19107  8151 53242\n",
      "  3626 40550  9287 16096 15542 15689 20936 35636  1805  1462 28210 20618\n",
      " 27975 50565 31240 38960 27726 40248 36783 36565 42986 11182 46258 28753\n",
      " 29746 14994 17498 21282 45490 34308 28978  8779 10710 31345 44320 32264\n",
      " 53476 22157  9332 52880   560 25799 33349 51884 39107 41072 46090 26599\n",
      " 24825 26366  8449 18458 38351 12706 30364  8654 28168 43785 39905 32671\n",
      " 38568 21261 11507 53651 28885 10191 10878 48342 13061 39209 36308  9680\n",
      " 29399 37749 53909   942  8350 38983 34779 36423 28731 41345 44436 27517\n",
      " 45551 43641 11113 52793 12892 17890 42671 46034 18478 44359 35239   520\n",
      "  4959 15457 15861 43763  5807 15363 28629 14809 13005  4886 18593 46655\n",
      " 51184 34063 15524 28741 47882 38715 53850 16071 29299 34261  1675 26287\n",
      " 46951 46171 52973 32171 13790 42203 44825 41079 10509 53499 11961 24713\n",
      " 51711 48496 27034 19459 34172 40194  2109  9268 33474 23553 53674 34054\n",
      " 48749 23969 31556 52819 21931 41277 16777 20575 52057 32435 50365  4565\n",
      " 48218 41518 51682  6634 24135 22393 49177 10824    85 33930 38125 49955\n",
      " 26242 44868 34809 29210 27093 28193 37776 14849 37184 10439 41871  8784\n",
      " 32001 27110 43366 25103 29639 50159 43870 48534 47725 34344 44671 26233\n",
      " 41342 54168 43822 36212  6463 15021 30249 19883  9460 17191 31382 18226\n",
      " 41720 28223 31718 26402  8326 32619 33562  6922 44610  4372 25589 42862\n",
      " 49974 10979  6817  7447 42000 32268 36198 28428  5409 37812 23384 48625\n",
      " 28395 18553 32706  3272  3940 19040  3467 21792 31264 21443 54369 43190\n",
      " 54688 25286 44932 20877 38836 52420 52365  8643 34488  7068 52804 14026\n",
      "  8602   390 48693 17433 53105   186 49003 24992 32389 40564 37001  9667\n",
      "  3675 43812 20751 42289  8747 39952 29014 46652 17730 14051 17886 39025\n",
      " 18124 52343 51790 30015 26083 39471 30689 22672 30391  4609  5713 38222\n",
      " 46008 29286 17801 40619 16746 44409 54108 33740 31388 28689 54645 52035\n",
      " 37905 48526 22712 44228 40097  6353 25969 37972 20032 33328 15042 38603\n",
      "  3916  2090 51897 44178 25374   553 12865  7396 50393 52005 18437 12245\n",
      " 54187 45805 17524 18201 38327 16895 20238 13800 32097 51162 54071 23014\n",
      " 40105 25191 40094 51351  9888 52427 14688   350 26871 41119 18369 41037\n",
      "  1663 28864 10919 42633  2510 44653 17584 25136 10750 53439 42614 14905\n",
      " 32271 26922 13309 38718 46621 53112 42043 24184  6402 29955 17054  8663\n",
      " 44399 33650  1395 31318 22602 10544 15987 10196 38436 42359 24487  1765\n",
      " 44059  1116  5438  9563 41530 38229 27978 54697   980 44771 40844 52410\n",
      "  7493 16577 47462    17 45375 39881 47201 28852 53801 50105 39872 38516\n",
      " 30626 49480 15177 14473 41712  9517 25830 21813 27661 40944 21631 49444\n",
      " 11991  8452 15476 43252 35026 20519 42796  4148 33900 41496  2351 19925\n",
      " 28882 21140 21317 30722 27590 25391 30187 46326 32399 42965 41849  7903\n",
      "  6843 42918 54728 35540  7593 44421 20679  1295 24570 14548 51217 22857\n",
      " 44865 31223 31525  9439 47754  8925 28309 36762]\n"
     ]
    }
   ],
   "source": [
    "print(start)"
   ]
  },
  {
   "cell_type": "code",
   "execution_count": 31,
   "id": "c26dc6d4",
   "metadata": {},
   "outputs": [
    {
     "name": "stdout",
     "output_type": "stream",
     "text": [
      "[3 5]\n"
     ]
    }
   ],
   "source": [
    "arr3 = arr1[arr2]\n",
    "print(arr3)"
   ]
  },
  {
   "cell_type": "code",
   "execution_count": 63,
   "id": "f79bbe2f",
   "metadata": {},
   "outputs": [],
   "source": [
    "def transform_and_split_our_data(data, timesteps, items_to_int):\n",
    "    \n",
    "    \"\"\"\n",
    "    Notably, the input features are the transformed version of item_id and nb_days without the last element, \n",
    "    whereas the target feature is the shifted version of item_id (without the first element).\n",
    "    \"\"\"\n",
    "    \n",
    "    drop_single_timestep_sessions(data)\n",
    "    \n",
    "    # The remaining sessions will be split into input and target values.\n",
    "    iters = np.arange(batch_size)\n",
    "    maxiter = iters.max()\n",
    "    start = offset_sessions[session_idx_arr[iters]]\n",
    "    end = offset_sessions[session_idx_arr[iters]+1]\n",
    "    \n",
    "    \n",
    "    \n",
    "    \n",
    "    \n",
    "    # After puting events with same session as a group, group length should be checked\n",
    "    # if length < timesteps (19) padding should be used, adding some ziro ???\n",
    "    # if length > timesteps, these sessions should be split into multiple sessions having 19 length\n",
    "    # Loss of information by splitting long sessions is substantially low \n",
    "    # and the advantages of a much higher computation speed is valuable.a\n",
    "    \n",
    "    # Sort the df by time, and then by session ID. That is, df is sorted by session ID and\n",
    "    # clicks within a session are next to each other, where the clicks within a session are time-ordered.\n",
    "    data.sort_values([session_key, time_key], inplace=True)\n",
    "    \n",
    "    return X, y"
   ]
  },
  {
   "cell_type": "code",
   "execution_count": 64,
   "id": "f533de90",
   "metadata": {},
   "outputs": [
    {
     "ename": "NameError",
     "evalue": "name 'self' is not defined",
     "output_type": "error",
     "traceback": [
      "\u001b[1;31m---------------------------------------------------------------------------\u001b[0m",
      "\u001b[1;31mNameError\u001b[0m                                 Traceback (most recent call last)",
      "\u001b[1;32mC:\\Users\\AL9107~1.SOL\\AppData\\Local\\Temp/ipykernel_22436/3472079369.py\u001b[0m in \u001b[0;36m<module>\u001b[1;34m\u001b[0m\n\u001b[0;32m      1\u001b[0m \u001b[1;31m# Transforming and splitting the data\u001b[0m\u001b[1;33m\u001b[0m\u001b[1;33m\u001b[0m\u001b[1;33m\u001b[0m\u001b[0m\n\u001b[1;32m----> 2\u001b[1;33m \u001b[0mX_tr\u001b[0m\u001b[1;33m,\u001b[0m \u001b[0my_tr\u001b[0m \u001b[1;33m=\u001b[0m \u001b[0mtransform_and_split_our_data\u001b[0m\u001b[1;33m(\u001b[0m\u001b[0mtr_data\u001b[0m\u001b[1;33m,\u001b[0m \u001b[0mtimesteps\u001b[0m\u001b[1;33m)\u001b[0m\u001b[1;33m\u001b[0m\u001b[1;33m\u001b[0m\u001b[0m\n\u001b[0m\u001b[0;32m      3\u001b[0m \u001b[0mX_va\u001b[0m\u001b[1;33m,\u001b[0m \u001b[0my_va\u001b[0m \u001b[1;33m=\u001b[0m \u001b[0mtransform_and_split_our_data\u001b[0m\u001b[1;33m(\u001b[0m\u001b[0mva_data\u001b[0m\u001b[1;33m,\u001b[0m \u001b[0mtimesteps\u001b[0m\u001b[1;33m)\u001b[0m\u001b[1;33m\u001b[0m\u001b[1;33m\u001b[0m\u001b[0m\n\u001b[0;32m      4\u001b[0m \u001b[0mX_te\u001b[0m\u001b[1;33m,\u001b[0m \u001b[0my_te\u001b[0m \u001b[1;33m=\u001b[0m \u001b[0mtransform_and_split_our_data\u001b[0m\u001b[1;33m(\u001b[0m\u001b[0mte_data\u001b[0m\u001b[1;33m,\u001b[0m \u001b[0mtimesteps\u001b[0m\u001b[1;33m)\u001b[0m\u001b[1;33m\u001b[0m\u001b[1;33m\u001b[0m\u001b[0m\n",
      "\u001b[1;32mC:\\Users\\AL9107~1.SOL\\AppData\\Local\\Temp/ipykernel_22436/3316626429.py\u001b[0m in \u001b[0;36mtransform_and_split_our_data\u001b[1;34m(data, timesteps)\u001b[0m\n\u001b[0;32m      1\u001b[0m \u001b[1;32mdef\u001b[0m \u001b[0mtransform_and_split_our_data\u001b[0m\u001b[1;33m(\u001b[0m\u001b[0mdata\u001b[0m\u001b[1;33m,\u001b[0m \u001b[0mtimesteps\u001b[0m\u001b[1;33m)\u001b[0m\u001b[1;33m:\u001b[0m\u001b[1;33m\u001b[0m\u001b[1;33m\u001b[0m\u001b[0m\n\u001b[0;32m      2\u001b[0m \u001b[1;33m\u001b[0m\u001b[0m\n\u001b[1;32m----> 3\u001b[1;33m     \u001b[0mdrop_single_timestep_sessions\u001b[0m\u001b[1;33m(\u001b[0m\u001b[0mdata\u001b[0m\u001b[1;33m)\u001b[0m\u001b[1;33m\u001b[0m\u001b[1;33m\u001b[0m\u001b[0m\n\u001b[0m\u001b[0;32m      4\u001b[0m \u001b[1;33m\u001b[0m\u001b[0m\n\u001b[0;32m      5\u001b[0m     \u001b[1;31m# The remaining sessions will be split into input and target values.\u001b[0m\u001b[1;33m\u001b[0m\u001b[1;33m\u001b[0m\u001b[1;33m\u001b[0m\u001b[0m\n",
      "\u001b[1;32mC:\\Users\\AL9107~1.SOL\\AppData\\Local\\Temp/ipykernel_22436/336900692.py\u001b[0m in \u001b[0;36mdrop_single_timestep_sessions\u001b[1;34m(df)\u001b[0m\n\u001b[0;32m      2\u001b[0m \u001b[1;33m\u001b[0m\u001b[0m\n\u001b[0;32m      3\u001b[0m     \u001b[1;31m# Sessions with a single timestep (one event) are dropped as it is not possible to train a model on inputs with no targets\u001b[0m\u001b[1;33m\u001b[0m\u001b[1;33m\u001b[0m\u001b[1;33m\u001b[0m\u001b[0m\n\u001b[1;32m----> 4\u001b[1;33m     \u001b[0mdf\u001b[0m\u001b[1;33m.\u001b[0m\u001b[0mgroupby\u001b[0m\u001b[1;33m(\u001b[0m\u001b[0mself\u001b[0m\u001b[1;33m.\u001b[0m\u001b[0msession_key\u001b[0m\u001b[1;33m)\u001b[0m\u001b[1;33m.\u001b[0m\u001b[0msize\u001b[0m\u001b[1;33m(\u001b[0m\u001b[1;33m)\u001b[0m\u001b[1;33m.\u001b[0m\u001b[0mcumsum\u001b[0m\u001b[1;33m(\u001b[0m\u001b[1;33m)\u001b[0m\u001b[1;33m\u001b[0m\u001b[1;33m\u001b[0m\u001b[0m\n\u001b[0m\u001b[0;32m      5\u001b[0m \u001b[1;33m\u001b[0m\u001b[0m\n\u001b[0;32m      6\u001b[0m     \u001b[1;32mreturn\u001b[0m \u001b[0mdf\u001b[0m\u001b[1;33m\u001b[0m\u001b[1;33m\u001b[0m\u001b[0m\n",
      "\u001b[1;31mNameError\u001b[0m: name 'self' is not defined"
     ]
    }
   ],
   "source": [
    "# Transforming and splitting the data\n",
    "X_tr, y_tr = transform_and_split_our_data(tr_data, timesteps)\n",
    "X_va, y_va = transform_and_split_our_data(va_data, timesteps)\n",
    "X_te, y_te = transform_and_split_our_data(te_data, timesteps)"
   ]
  }
 ],
 "metadata": {
  "kernelspec": {
   "display_name": "Python 3 (ipykernel)",
   "language": "python",
   "name": "python3"
  },
  "language_info": {
   "codemirror_mode": {
    "name": "ipython",
    "version": 3
   },
   "file_extension": ".py",
   "mimetype": "text/x-python",
   "name": "python",
   "nbconvert_exporter": "python",
   "pygments_lexer": "ipython3",
   "version": "3.9.5"
  }
 },
 "nbformat": 4,
 "nbformat_minor": 5
}
